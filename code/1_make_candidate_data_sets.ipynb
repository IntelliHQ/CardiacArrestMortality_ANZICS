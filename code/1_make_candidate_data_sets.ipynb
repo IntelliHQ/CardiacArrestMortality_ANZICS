{
 "cells": [
  {
   "cell_type": "markdown",
   "metadata": {},
   "source": [
    "## Importing the dataset"
   ]
  },
  {
   "cell_type": "code",
   "execution_count": 1,
   "metadata": {},
   "outputs": [
    {
     "name": "stdout",
     "output_type": "stream",
     "text": [
      "Python 3.6.3 :: Anaconda custom (64-bit)\r\n"
     ]
    }
   ],
   "source": [
    "!python -V"
   ]
  },
  {
   "cell_type": "code",
   "execution_count": 2,
   "metadata": {},
   "outputs": [
    {
     "name": "stderr",
     "output_type": "stream",
     "text": [
      "/home/ubuntu/anaconda3/lib/python3.6/site-packages/matplotlib/__init__.py:962: UserWarning: Duplicate key in file \"/home/ubuntu/.config/matplotlib/matplotlibrc\", line #2\n",
      "  (fname, cnt))\n",
      "/home/ubuntu/anaconda3/lib/python3.6/site-packages/matplotlib/__init__.py:962: UserWarning: Duplicate key in file \"/home/ubuntu/.config/matplotlib/matplotlibrc\", line #3\n",
      "  (fname, cnt))\n"
     ]
    },
    {
     "data": {
      "text/plain": [
       "'0.22.0'"
      ]
     },
     "execution_count": 2,
     "metadata": {},
     "output_type": "execute_result"
    }
   ],
   "source": [
    "import pandas as pd\n",
    "import numpy as np\n",
    "from sklearn.model_selection import train_test_split\n",
    "\n",
    "pd.__version__"
   ]
  },
  {
   "cell_type": "code",
   "execution_count": 4,
   "metadata": {},
   "outputs": [],
   "source": [
    "data = pd.read_csv('../data/cardiac_data.csv', skipinitialspace=True)\n",
    "data.drop(data.columns[0], axis=1, inplace=True) # drop the first column of patient id"
   ]
  },
  {
   "cell_type": "code",
   "execution_count": 5,
   "metadata": {},
   "outputs": [
    {
     "data": {
      "text/plain": [
       "(48165, 168)"
      ]
     },
     "execution_count": 5,
     "metadata": {},
     "output_type": "execute_result"
    }
   ],
   "source": [
    "data.shape"
   ]
  },
  {
   "cell_type": "code",
   "execution_count": 6,
   "metadata": {
    "scrolled": true
   },
   "outputs": [
    {
     "data": {
      "text/html": [
       "<div>\n",
       "<style scoped>\n",
       "    .dataframe tbody tr th:only-of-type {\n",
       "        vertical-align: middle;\n",
       "    }\n",
       "\n",
       "    .dataframe tbody tr th {\n",
       "        vertical-align: top;\n",
       "    }\n",
       "\n",
       "    .dataframe thead th {\n",
       "        text-align: right;\n",
       "    }\n",
       "</style>\n",
       "<table border=\"1\" class=\"dataframe\">\n",
       "  <thead>\n",
       "    <tr style=\"text-align: right;\">\n",
       "      <th></th>\n",
       "      <th>ïsiteid</th>\n",
       "      <th>hospitalclassificationid</th>\n",
       "      <th>hospitalclassification</th>\n",
       "      <th>publicprivateid</th>\n",
       "      <th>publicprivate</th>\n",
       "      <th>patientid</th>\n",
       "      <th>icuadmityyyymm</th>\n",
       "      <th>icuadmitfinyr</th>\n",
       "      <th>icuadmityyyy</th>\n",
       "      <th>icuadmitmonth</th>\n",
       "      <th>...</th>\n",
       "      <th>anzrodisincluded</th>\n",
       "      <th>anzrodissmr</th>\n",
       "      <th>anzrodriskofdeath</th>\n",
       "      <th>apache3isincluded</th>\n",
       "      <th>apache3issmr</th>\n",
       "      <th>apache3riskofdeath</th>\n",
       "      <th>apache3score</th>\n",
       "      <th>apache2score</th>\n",
       "      <th>infectedall1</th>\n",
       "      <th>majordiag</th>\n",
       "    </tr>\n",
       "  </thead>\n",
       "  <tbody>\n",
       "    <tr>\n",
       "      <th>0</th>\n",
       "      <td>47</td>\n",
       "      <td>1</td>\n",
       "      <td>Rural / Regional</td>\n",
       "      <td>4</td>\n",
       "      <td>Public</td>\n",
       "      <td>2</td>\n",
       "      <td>201710</td>\n",
       "      <td>2017-18</td>\n",
       "      <td>2017</td>\n",
       "      <td>10</td>\n",
       "      <td>...</td>\n",
       "      <td>1</td>\n",
       "      <td>1</td>\n",
       "      <td>0.032667</td>\n",
       "      <td>1</td>\n",
       "      <td>1</td>\n",
       "      <td>0.080221</td>\n",
       "      <td>61.0</td>\n",
       "      <td>19.0</td>\n",
       "      <td>0</td>\n",
       "      <td>med_other</td>\n",
       "    </tr>\n",
       "    <tr>\n",
       "      <th>1</th>\n",
       "      <td>47</td>\n",
       "      <td>1</td>\n",
       "      <td>Rural / Regional</td>\n",
       "      <td>4</td>\n",
       "      <td>Public</td>\n",
       "      <td>230</td>\n",
       "      <td>201710</td>\n",
       "      <td>2017-18</td>\n",
       "      <td>2017</td>\n",
       "      <td>10</td>\n",
       "      <td>...</td>\n",
       "      <td>1</td>\n",
       "      <td>1</td>\n",
       "      <td>0.215668</td>\n",
       "      <td>1</td>\n",
       "      <td>0</td>\n",
       "      <td>0.130564</td>\n",
       "      <td>53.0</td>\n",
       "      <td>25.0</td>\n",
       "      <td>0</td>\n",
       "      <td>cardiacarrest</td>\n",
       "    </tr>\n",
       "    <tr>\n",
       "      <th>2</th>\n",
       "      <td>108</td>\n",
       "      <td>3</td>\n",
       "      <td>Tertiary</td>\n",
       "      <td>4</td>\n",
       "      <td>Public</td>\n",
       "      <td>5838590P120</td>\n",
       "      <td>201709</td>\n",
       "      <td>2017-18</td>\n",
       "      <td>2017</td>\n",
       "      <td>9</td>\n",
       "      <td>...</td>\n",
       "      <td>1</td>\n",
       "      <td>1</td>\n",
       "      <td>0.652234</td>\n",
       "      <td>1</td>\n",
       "      <td>1</td>\n",
       "      <td>0.632856</td>\n",
       "      <td>109.0</td>\n",
       "      <td>30.0</td>\n",
       "      <td>0</td>\n",
       "      <td>cardiacarrest</td>\n",
       "    </tr>\n",
       "    <tr>\n",
       "      <th>3</th>\n",
       "      <td>178</td>\n",
       "      <td>3</td>\n",
       "      <td>Tertiary</td>\n",
       "      <td>4</td>\n",
       "      <td>Public</td>\n",
       "      <td>2270096</td>\n",
       "      <td>201709</td>\n",
       "      <td>2017-18</td>\n",
       "      <td>2017</td>\n",
       "      <td>9</td>\n",
       "      <td>...</td>\n",
       "      <td>1</td>\n",
       "      <td>1</td>\n",
       "      <td>0.156578</td>\n",
       "      <td>1</td>\n",
       "      <td>1</td>\n",
       "      <td>0.337196</td>\n",
       "      <td>75.0</td>\n",
       "      <td>15.0</td>\n",
       "      <td>0</td>\n",
       "      <td>cardiacarrest</td>\n",
       "    </tr>\n",
       "    <tr>\n",
       "      <th>4</th>\n",
       "      <td>223</td>\n",
       "      <td>3</td>\n",
       "      <td>Tertiary</td>\n",
       "      <td>4</td>\n",
       "      <td>Public</td>\n",
       "      <td>3032270</td>\n",
       "      <td>201709</td>\n",
       "      <td>2017-18</td>\n",
       "      <td>2017</td>\n",
       "      <td>9</td>\n",
       "      <td>...</td>\n",
       "      <td>1</td>\n",
       "      <td>1</td>\n",
       "      <td>0.102439</td>\n",
       "      <td>1</td>\n",
       "      <td>1</td>\n",
       "      <td>0.057196</td>\n",
       "      <td>39.0</td>\n",
       "      <td>10.0</td>\n",
       "      <td>0</td>\n",
       "      <td>cardiacarrest</td>\n",
       "    </tr>\n",
       "  </tbody>\n",
       "</table>\n",
       "<p>5 rows × 168 columns</p>\n",
       "</div>"
      ],
      "text/plain": [
       "   ïsiteid  hospitalclassificationid hospitalclassification  publicprivateid  \\\n",
       "0       47                         1       Rural / Regional                4   \n",
       "1       47                         1       Rural / Regional                4   \n",
       "2      108                         3               Tertiary                4   \n",
       "3      178                         3               Tertiary                4   \n",
       "4      223                         3               Tertiary                4   \n",
       "\n",
       "  publicprivate    patientid  icuadmityyyymm icuadmitfinyr  icuadmityyyy  \\\n",
       "0        Public            2          201710       2017-18          2017   \n",
       "1        Public          230          201710       2017-18          2017   \n",
       "2        Public  5838590P120          201709       2017-18          2017   \n",
       "3        Public      2270096          201709       2017-18          2017   \n",
       "4        Public      3032270          201709       2017-18          2017   \n",
       "\n",
       "   icuadmitmonth      ...        anzrodisincluded  anzrodissmr  \\\n",
       "0             10      ...                       1            1   \n",
       "1             10      ...                       1            1   \n",
       "2              9      ...                       1            1   \n",
       "3              9      ...                       1            1   \n",
       "4              9      ...                       1            1   \n",
       "\n",
       "  anzrodriskofdeath  apache3isincluded  apache3issmr  apache3riskofdeath  \\\n",
       "0          0.032667                  1             1            0.080221   \n",
       "1          0.215668                  1             0            0.130564   \n",
       "2          0.652234                  1             1            0.632856   \n",
       "3          0.156578                  1             1            0.337196   \n",
       "4          0.102439                  1             1            0.057196   \n",
       "\n",
       "   apache3score apache2score infectedall1      majordiag  \n",
       "0          61.0         19.0            0      med_other  \n",
       "1          53.0         25.0            0  cardiacarrest  \n",
       "2         109.0         30.0            0  cardiacarrest  \n",
       "3          75.0         15.0            0  cardiacarrest  \n",
       "4          39.0         10.0            0  cardiacarrest  \n",
       "\n",
       "[5 rows x 168 columns]"
      ]
     },
     "execution_count": 6,
     "metadata": {},
     "output_type": "execute_result"
    }
   ],
   "source": [
    "data.head()"
   ]
  },
  {
   "cell_type": "code",
   "execution_count": 7,
   "metadata": {},
   "outputs": [
    {
     "name": "stdout",
     "output_type": "stream",
     "text": [
      "<class 'pandas.core.frame.DataFrame'>\n",
      "RangeIndex: 48165 entries, 0 to 48164\n",
      "Data columns (total 168 columns):\n",
      "ïsiteid                      48165 non-null int64\n",
      "hospitalclassificationid     48165 non-null int64\n",
      "hospitalclassification       48165 non-null object\n",
      "publicprivateid              48165 non-null int64\n",
      "publicprivate                48165 non-null object\n",
      "patientid                    48165 non-null object\n",
      "icuadmityyyymm               48165 non-null int64\n",
      "icuadmitfinyr                48165 non-null object\n",
      "icuadmityyyy                 48165 non-null int64\n",
      "icuadmitmonth                48165 non-null int64\n",
      "icuadmitweekday              48165 non-null int64\n",
      "icuadmithour                 48165 non-null int64\n",
      "icu_ad_dtm                   48165 non-null object\n",
      "icudisyyyy                   48148 non-null float64\n",
      "icudismonth                  48148 non-null float64\n",
      "icudisweekday                48148 non-null float64\n",
      "icudishour                   48148 non-null float64\n",
      "icu_ds_dtm                   48165 non-null object\n",
      "hosp_ad_dtm                  48165 non-null object\n",
      "hosp_ds_dtm                  48165 non-null object\n",
      "hosp_srce                    45312 non-null float64\n",
      "hosp_outcm                   47986 non-null float64\n",
      "hosp_hrs                     44455 non-null float64\n",
      "sex                          48157 non-null object\n",
      "prior_icu_ad_dtm             48165 non-null object\n",
      "prior_icu_ds_dtm             48165 non-null object\n",
      "icu_srce                     48097 non-null float64\n",
      "icu_hrs                      48148 non-null float64\n",
      "pre_icu_hrs                  47869 non-null float64\n",
      "icu_ds_dec_dtm               48165 non-null object\n",
      "discharge_delay_hrs          27025 non-null float64\n",
      "readmission_lag_hrs          2322 non-null float64\n",
      "icu_outcm                    47898 non-null float64\n",
      "readmitted                   48165 non-null int64\n",
      "admepisode                   48165 non-null int64\n",
      "died_icu                     47898 non-null float64\n",
      "died_hosp                    47986 non-null float64\n",
      "age                          48161 non-null float64\n",
      "elect                        46956 non-null float64\n",
      "chr_resp                     48165 non-null float64\n",
      "chr_cvs                      48165 non-null float64\n",
      "chr_liv                      48165 non-null float64\n",
      "chr_ren                      48165 non-null float64\n",
      "immundis                     48165 non-null float64\n",
      "immunrx                      48165 non-null float64\n",
      "aids                         48165 non-null float64\n",
      "hepfail                      48165 non-null float64\n",
      "lymphoma                     48165 non-null int64\n",
      "metast                       48165 non-null int64\n",
      "leukaem                      48165 non-null int64\n",
      "immunsup                     48165 non-null int64\n",
      "cirrhos                      48165 non-null int64\n",
      "iddm                         34174 non-null float64\n",
      "caretype                     47737 non-null float64\n",
      "weight                       11958 non-null float64\n",
      "height                       9542 non-null float64\n",
      "preg_stat                    5701 non-null float64\n",
      "thrombpro                    33698 non-null float64\n",
      "emg_rsp_adm                  38466 non-null float64\n",
      "treat_lmt                    40524 non-null float64\n",
      "cardarrest                   46375 non-null float64\n",
      "resparrest                   43121 non-null float64\n",
      "indigenous                   39297 non-null float64\n",
      "arf                          48037 non-null float64\n",
      "intubated                    48069 non-null float64\n",
      "ventilated                   48055 non-null float64\n",
      "rrhi_vent                    730 non-null float64\n",
      "rrlo_vent                    730 non-null float64\n",
      "elect_surg                   888 non-null float64\n",
      "lactate                      164 non-null float64\n",
      "gcsverb                      45703 non-null float64\n",
      "gcsmotor                     45716 non-null float64\n",
      "gcseye                       45713 non-null float64\n",
      "gcs                          45746 non-null float64\n",
      "temp_ap2                     44527 non-null float64\n",
      "temp_anz                     45603 non-null float64\n",
      "map_ap2                      45369 non-null float64\n",
      "map_anz                      46587 non-null float64\n",
      "hr_ap2                       45163 non-null float64\n",
      "hr_anz                       46632 non-null float64\n",
      "rr_ap2                       44848 non-null float64\n",
      "rr_anz                       46324 non-null float64\n",
      "fio2_ap2                     42894 non-null float64\n",
      "fio2_anz                     43097 non-null float64\n",
      "pao2_ap2                     42879 non-null float64\n",
      "pao2_anz                     43012 non-null float64\n",
      "paco2_ap2                    42869 non-null float64\n",
      "paco2_anz                    43053 non-null float64\n",
      "ph_ap2                       42845 non-null float64\n",
      "ph_anz                       42885 non-null float64\n",
      "hco3_ap2                     43547 non-null float64\n",
      "na_ap2                       45003 non-null float64\n",
      "na_anz                       46127 non-null float64\n",
      "k_ap2                        44937 non-null float64\n",
      "creat_ap2                    44584 non-null float64\n",
      "creat_anz                    45685 non-null float64\n",
      "hct_ap2                      43663 non-null float64\n",
      "hct_anz                      44784 non-null float64\n",
      "wcc_ap2                      44459 non-null float64\n",
      "wcc_anz                      45581 non-null float64\n",
      "urea_anz                     45377 non-null float64\n",
      "urineop                      43422 non-null float64\n",
      "albumin_anz                  43757 non-null float64\n",
      "bili_anz                     42492 non-null float64\n",
      "glucose_anz                  44655 non-null float64\n",
      "ap3co2p                      41863 non-null float64\n",
      "temphi                       43985 non-null float64\n",
      "templo                       42788 non-null float64\n",
      "hrhi                         45294 non-null float64\n",
      "hrlo                         43375 non-null float64\n",
      "rrhi                         44879 non-null float64\n",
      "rrlo                         43136 non-null float64\n",
      "systolichi                   44562 non-null float64\n",
      "systoliclo                   42956 non-null float64\n",
      "diastolichi                  43348 non-null float64\n",
      "diastoliclo                  41883 non-null float64\n",
      "maphi                        45029 non-null float64\n",
      "maplo                        43402 non-null float64\n",
      "nahi                         44818 non-null float64\n",
      "nalo                         42123 non-null float64\n",
      "khi                          44746 non-null float64\n",
      "klo                          42037 non-null float64\n",
      "hco3hi                       43441 non-null float64\n",
      "hco3lo                       40944 non-null float64\n",
      "creathi                      44365 non-null float64\n",
      "creatlo                      41260 non-null float64\n",
      "hcthi                        41673 non-null float64\n",
      "hctlo                        39054 non-null float64\n",
      "hmgnhi                       36115 non-null float64\n",
      "hmgnlo                       33241 non-null float64\n",
      "wcchi                        44196 non-null float64\n",
      "wcclo                        40683 non-null float64\n",
      "plathi                       36232 non-null float64\n",
      "platlo                       33197 non-null float64\n",
      "gluchi                       43737 non-null float64\n",
      "gluclo                       41567 non-null float64\n",
      "agescore                     48165 non-null int64\n",
      "albuminscore                 48165 non-null int64\n",
      "bilirubinscore               48165 non-null int64\n",
      "creatininescore              48165 non-null int64\n",
      "glucosescore                 48165 non-null int64\n",
      "haematocritscore             48165 non-null int64\n",
      "heartratescore               48165 non-null int64\n",
      "meanarterialpressurescore    48165 non-null int64\n",
      "sodiumscore                  48165 non-null int64\n",
      "neurologicalscore            48165 non-null int64\n",
      "oxygenationscore             48165 non-null int64\n",
      "phscore                      48165 non-null int64\n",
      "respiratoryratescore         48165 non-null int64\n",
      "temperaturescore             48165 non-null int64\n",
      "ureascore                    48165 non-null int64\n",
      "urineoutputscore             48165 non-null int64\n",
      "whitecellcountscore          48165 non-null int64\n",
      "ap3diag                      48165 non-null int64\n",
      "ap3_subcode                  30351 non-null float64\n",
      "cabg_graft                   677 non-null float64\n",
      "cabg_redo                    4316 non-null float64\n",
      "thromb_therapy               5747 non-null float64\n",
      "anzrodisincluded             48165 non-null int64\n",
      "anzrodissmr                  48165 non-null int64\n",
      "anzrodriskofdeath            47331 non-null float64\n",
      "apache3isincluded            48165 non-null int64\n",
      "apache3issmr                 48165 non-null int64\n",
      "apache3riskofdeath           47194 non-null float64\n",
      "apache3score                 47332 non-null float64\n",
      "apache2score                 47330 non-null float64\n",
      "infectedall1                 48165 non-null int64\n",
      "majordiag                    48165 non-null object\n",
      "dtypes: float64(117), int64(38), object(13)\n",
      "memory usage: 61.7+ MB\n"
     ]
    }
   ],
   "source": [
    "data.info(max_cols=data.shape[1])"
   ]
  },
  {
   "cell_type": "markdown",
   "metadata": {},
   "source": [
    "## Check patient dropoff for consort diagram"
   ]
  },
  {
   "cell_type": "code",
   "execution_count": 10,
   "metadata": {},
   "outputs": [
    {
     "data": {
      "text/plain": [
       "(48165, 168)"
      ]
     },
     "execution_count": 10,
     "metadata": {},
     "output_type": "execute_result"
    }
   ],
   "source": [
    "data_cardarr = data[\n",
    "    ((data.ap3diag == 102) | (data.ap3_subcode == 102.01) | (data.cardarrest == 1)) # admitted for cardiac arrest\n",
    "]\n",
    "data_cardarr.shape"
   ]
  },
  {
   "cell_type": "markdown",
   "metadata": {},
   "source": [
    "Drop patients who have a treatment limitation (since most cases have no treatment limitation, treats NA values as no limitation)"
   ]
  },
  {
   "cell_type": "code",
   "execution_count": 11,
   "metadata": {},
   "outputs": [
    {
     "name": "stdout",
     "output_type": "stream",
     "text": [
      "Rows removed:  4667\n",
      "New shape:  (43498, 168)\n"
     ]
    }
   ],
   "source": [
    "previous_shape = data_cardarr.shape[0]\n",
    "\n",
    "data_cardarr = data_cardarr[\n",
    "    (data_cardarr.treat_lmt.isin([1,np.nan])) # no treatment limitation\n",
    "]\n",
    "\n",
    "print('Rows removed: ', (previous_shape - data_cardarr.shape[0]))\n",
    "print('New shape: ', data_cardarr.shape)"
   ]
  },
  {
   "cell_type": "markdown",
   "metadata": {},
   "source": [
    "Drop patients whose ICU outcome is transferred to another ICU. Include NA values"
   ]
  },
  {
   "cell_type": "code",
   "execution_count": 12,
   "metadata": {},
   "outputs": [
    {
     "name": "stdout",
     "output_type": "stream",
     "text": [
      "Rows removed:  1642\n",
      "New shape:  (41856, 168)\n"
     ]
    }
   ],
   "source": [
    "previous_shape = data_cardarr.shape[0]\n",
    "\n",
    "data_cardarr = data_cardarr[\n",
    "    (data_cardarr.icu_outcm.isin([2,3,6,np.nan])) # icu_outcm shows either died(2) or survived(3) or transferred hosp (6)\n",
    "]\n",
    "\n",
    "print('Rows removed: ', (previous_shape - data_cardarr.shape[0]))\n",
    "print('New shape: ', data_cardarr.shape)"
   ]
  },
  {
   "cell_type": "markdown",
   "metadata": {},
   "source": [
    "Drop readmissions"
   ]
  },
  {
   "cell_type": "code",
   "execution_count": 13,
   "metadata": {},
   "outputs": [
    {
     "name": "stdout",
     "output_type": "stream",
     "text": [
      "Rows removed:  2069\n",
      "New shape:  (39787, 168)\n"
     ]
    },
    {
     "name": "stderr",
     "output_type": "stream",
     "text": [
      "/home/ubuntu/anaconda3/lib/python3.6/site-packages/ipykernel_launcher.py:4: UserWarning: Boolean Series key will be reindexed to match DataFrame index.\n",
      "  after removing the cwd from sys.path.\n"
     ]
    }
   ],
   "source": [
    "previous_shape = data_cardarr.shape[0]\n",
    "\n",
    "data_cardarr = data_cardarr[\n",
    "    (data.readmitted == 0) # Include only first-time admissions\n",
    "]\n",
    "\n",
    "print('Rows removed: ', (previous_shape - data_cardarr.shape[0]))\n",
    "print('New shape: ', data_cardarr.shape)"
   ]
  },
  {
   "cell_type": "markdown",
   "metadata": {},
   "source": [
    "Include only first-time admissions"
   ]
  },
  {
   "cell_type": "code",
   "execution_count": 14,
   "metadata": {},
   "outputs": [
    {
     "name": "stdout",
     "output_type": "stream",
     "text": [
      "Rows removed:  44\n",
      "New shape:  (39743, 168)\n"
     ]
    },
    {
     "name": "stderr",
     "output_type": "stream",
     "text": [
      "/home/ubuntu/anaconda3/lib/python3.6/site-packages/ipykernel_launcher.py:4: UserWarning: Boolean Series key will be reindexed to match DataFrame index.\n",
      "  after removing the cwd from sys.path.\n"
     ]
    }
   ],
   "source": [
    "previous_shape = data_cardarr.shape[0]\n",
    "\n",
    "data_cardarr = data_cardarr[\n",
    "    (data.admepisode.isin([0,1,np.nan])) # Include first-time admissions only\n",
    "]\n",
    "\n",
    "print('Rows removed: ', (previous_shape - data_cardarr.shape[0]))\n",
    "print('New shape: ', data_cardarr.shape)"
   ]
  },
  {
   "cell_type": "markdown",
   "metadata": {},
   "source": [
    "## Select rows of interest"
   ]
  },
  {
   "cell_type": "markdown",
   "metadata": {
    "collapsed": true
   },
   "source": [
    "**Check for inconsistency**  \n",
    "*check `icu_outcm` and `died_icu`*  \n",
    "`icu_outcm`: 2 - died; 3 - survived  \n",
    "`died_icu`: 0 - survived; 1 - died"
   ]
  },
  {
   "cell_type": "code",
   "execution_count": 15,
   "metadata": {},
   "outputs": [
    {
     "data": {
      "text/html": [
       "<div>\n",
       "<style scoped>\n",
       "    .dataframe tbody tr th:only-of-type {\n",
       "        vertical-align: middle;\n",
       "    }\n",
       "\n",
       "    .dataframe tbody tr th {\n",
       "        vertical-align: top;\n",
       "    }\n",
       "\n",
       "    .dataframe thead th {\n",
       "        text-align: right;\n",
       "    }\n",
       "</style>\n",
       "<table border=\"1\" class=\"dataframe\">\n",
       "  <thead>\n",
       "    <tr style=\"text-align: right;\">\n",
       "      <th>died_icu</th>\n",
       "      <th>0.0</th>\n",
       "      <th>1.0</th>\n",
       "    </tr>\n",
       "    <tr>\n",
       "      <th>icu_outcm</th>\n",
       "      <th></th>\n",
       "      <th></th>\n",
       "    </tr>\n",
       "  </thead>\n",
       "  <tbody>\n",
       "    <tr>\n",
       "      <th>2.0</th>\n",
       "      <td>0</td>\n",
       "      <td>15458</td>\n",
       "    </tr>\n",
       "    <tr>\n",
       "      <th>3.0</th>\n",
       "      <td>23167</td>\n",
       "      <td>0</td>\n",
       "    </tr>\n",
       "    <tr>\n",
       "      <th>6.0</th>\n",
       "      <td>868</td>\n",
       "      <td>0</td>\n",
       "    </tr>\n",
       "  </tbody>\n",
       "</table>\n",
       "</div>"
      ],
      "text/plain": [
       "died_icu     0.0    1.0\n",
       "icu_outcm              \n",
       "2.0            0  15458\n",
       "3.0        23167      0\n",
       "6.0          868      0"
      ]
     },
     "execution_count": 15,
     "metadata": {},
     "output_type": "execute_result"
    }
   ],
   "source": [
    "pd.crosstab(data_cardarr.icu_outcm, data_cardarr.died_icu)"
   ]
  },
  {
   "cell_type": "code",
   "execution_count": 16,
   "metadata": {},
   "outputs": [
    {
     "data": {
      "text/html": [
       "<div>\n",
       "<style scoped>\n",
       "    .dataframe tbody tr th:only-of-type {\n",
       "        vertical-align: middle;\n",
       "    }\n",
       "\n",
       "    .dataframe tbody tr th {\n",
       "        vertical-align: top;\n",
       "    }\n",
       "\n",
       "    .dataframe thead th {\n",
       "        text-align: right;\n",
       "    }\n",
       "</style>\n",
       "<table border=\"1\" class=\"dataframe\">\n",
       "  <thead>\n",
       "    <tr style=\"text-align: right;\">\n",
       "      <th>died_icu</th>\n",
       "      <th>0.0</th>\n",
       "      <th>1.0</th>\n",
       "    </tr>\n",
       "    <tr>\n",
       "      <th>admepisode</th>\n",
       "      <th></th>\n",
       "      <th></th>\n",
       "    </tr>\n",
       "  </thead>\n",
       "  <tbody>\n",
       "    <tr>\n",
       "      <th>0</th>\n",
       "      <td>22667</td>\n",
       "      <td>15447</td>\n",
       "    </tr>\n",
       "    <tr>\n",
       "      <th>1</th>\n",
       "      <td>1368</td>\n",
       "      <td>11</td>\n",
       "    </tr>\n",
       "  </tbody>\n",
       "</table>\n",
       "</div>"
      ],
      "text/plain": [
       "died_icu      0.0    1.0\n",
       "admepisode              \n",
       "0           22667  15447\n",
       "1            1368     11"
      ]
     },
     "execution_count": 16,
     "metadata": {},
     "output_type": "execute_result"
    }
   ],
   "source": [
    "pd.crosstab(data_cardarr.admepisode, data_cardarr.died_icu)"
   ]
  },
  {
   "cell_type": "markdown",
   "metadata": {},
   "source": [
    "*check `hosp_outcm` and `died_hosp`*  \n",
    "`hosp_outcm`: 2 - died; others - survived  \n",
    "`died_hosp`: 0 - survived; 1 - died"
   ]
  },
  {
   "cell_type": "code",
   "execution_count": 17,
   "metadata": {},
   "outputs": [
    {
     "data": {
      "text/html": [
       "<div>\n",
       "<style scoped>\n",
       "    .dataframe tbody tr th:only-of-type {\n",
       "        vertical-align: middle;\n",
       "    }\n",
       "\n",
       "    .dataframe tbody tr th {\n",
       "        vertical-align: top;\n",
       "    }\n",
       "\n",
       "    .dataframe thead th {\n",
       "        text-align: right;\n",
       "    }\n",
       "</style>\n",
       "<table border=\"1\" class=\"dataframe\">\n",
       "  <thead>\n",
       "    <tr style=\"text-align: right;\">\n",
       "      <th>died_hosp</th>\n",
       "      <th>0.0</th>\n",
       "      <th>1.0</th>\n",
       "    </tr>\n",
       "    <tr>\n",
       "      <th>hosp_outcm</th>\n",
       "      <th></th>\n",
       "      <th></th>\n",
       "    </tr>\n",
       "  </thead>\n",
       "  <tbody>\n",
       "    <tr>\n",
       "      <th>1.0</th>\n",
       "      <td>8</td>\n",
       "      <td>0</td>\n",
       "    </tr>\n",
       "    <tr>\n",
       "      <th>2.0</th>\n",
       "      <td>0</td>\n",
       "      <td>18023</td>\n",
       "    </tr>\n",
       "    <tr>\n",
       "      <th>3.0</th>\n",
       "      <td>14666</td>\n",
       "      <td>0</td>\n",
       "    </tr>\n",
       "    <tr>\n",
       "      <th>4.0</th>\n",
       "      <td>2602</td>\n",
       "      <td>0</td>\n",
       "    </tr>\n",
       "    <tr>\n",
       "      <th>5.0</th>\n",
       "      <td>167</td>\n",
       "      <td>0</td>\n",
       "    </tr>\n",
       "    <tr>\n",
       "      <th>6.0</th>\n",
       "      <td>4095</td>\n",
       "      <td>0</td>\n",
       "    </tr>\n",
       "    <tr>\n",
       "      <th>7.0</th>\n",
       "      <td>22</td>\n",
       "      <td>0</td>\n",
       "    </tr>\n",
       "    <tr>\n",
       "      <th>9.0</th>\n",
       "      <td>3</td>\n",
       "      <td>0</td>\n",
       "    </tr>\n",
       "  </tbody>\n",
       "</table>\n",
       "</div>"
      ],
      "text/plain": [
       "died_hosp     0.0    1.0\n",
       "hosp_outcm              \n",
       "1.0             8      0\n",
       "2.0             0  18023\n",
       "3.0         14666      0\n",
       "4.0          2602      0\n",
       "5.0           167      0\n",
       "6.0          4095      0\n",
       "7.0            22      0\n",
       "9.0             3      0"
      ]
     },
     "execution_count": 17,
     "metadata": {},
     "output_type": "execute_result"
    }
   ],
   "source": [
    "pd.crosstab(data_cardarr.hosp_outcm, data_cardarr.died_hosp)"
   ]
  },
  {
   "cell_type": "markdown",
   "metadata": {},
   "source": [
    "*check `died_icu` and `died_hosp`*  "
   ]
  },
  {
   "cell_type": "code",
   "execution_count": 18,
   "metadata": {},
   "outputs": [
    {
     "data": {
      "text/html": [
       "<div>\n",
       "<style scoped>\n",
       "    .dataframe tbody tr th:only-of-type {\n",
       "        vertical-align: middle;\n",
       "    }\n",
       "\n",
       "    .dataframe tbody tr th {\n",
       "        vertical-align: top;\n",
       "    }\n",
       "\n",
       "    .dataframe thead th {\n",
       "        text-align: right;\n",
       "    }\n",
       "</style>\n",
       "<table border=\"1\" class=\"dataframe\">\n",
       "  <thead>\n",
       "    <tr style=\"text-align: right;\">\n",
       "      <th>died_hosp</th>\n",
       "      <th>0.0</th>\n",
       "      <th>1.0</th>\n",
       "    </tr>\n",
       "    <tr>\n",
       "      <th>died_icu</th>\n",
       "      <th></th>\n",
       "      <th></th>\n",
       "    </tr>\n",
       "  </thead>\n",
       "  <tbody>\n",
       "    <tr>\n",
       "      <th>0.0</th>\n",
       "      <td>21393</td>\n",
       "      <td>2500</td>\n",
       "    </tr>\n",
       "    <tr>\n",
       "      <th>1.0</th>\n",
       "      <td>13</td>\n",
       "      <td>15442</td>\n",
       "    </tr>\n",
       "  </tbody>\n",
       "</table>\n",
       "</div>"
      ],
      "text/plain": [
       "died_hosp    0.0    1.0\n",
       "died_icu               \n",
       "0.0        21393   2500\n",
       "1.0           13  15442"
      ]
     },
     "execution_count": 18,
     "metadata": {},
     "output_type": "execute_result"
    }
   ],
   "source": [
    "pd.crosstab(data_cardarr.died_icu, data_cardarr.died_hosp)"
   ]
  },
  {
   "cell_type": "markdown",
   "metadata": {},
   "source": [
    "Inconsistency found for 13 people who reported died in icu but survived in hospital."
   ]
  },
  {
   "cell_type": "code",
   "execution_count": 19,
   "metadata": {},
   "outputs": [
    {
     "data": {
      "text/html": [
       "<div>\n",
       "<style scoped>\n",
       "    .dataframe tbody tr th:only-of-type {\n",
       "        vertical-align: middle;\n",
       "    }\n",
       "\n",
       "    .dataframe tbody tr th {\n",
       "        vertical-align: top;\n",
       "    }\n",
       "\n",
       "    .dataframe thead th {\n",
       "        text-align: right;\n",
       "    }\n",
       "</style>\n",
       "<table border=\"1\" class=\"dataframe\">\n",
       "  <thead>\n",
       "    <tr style=\"text-align: right;\">\n",
       "      <th>died_hosp</th>\n",
       "      <th>0.0</th>\n",
       "      <th>1.0</th>\n",
       "    </tr>\n",
       "    <tr>\n",
       "      <th>died_icu</th>\n",
       "      <th></th>\n",
       "      <th></th>\n",
       "    </tr>\n",
       "  </thead>\n",
       "  <tbody>\n",
       "    <tr>\n",
       "      <th>0.0</th>\n",
       "      <td>0.895367</td>\n",
       "      <td>0.104633</td>\n",
       "    </tr>\n",
       "    <tr>\n",
       "      <th>1.0</th>\n",
       "      <td>0.000841</td>\n",
       "      <td>0.999159</td>\n",
       "    </tr>\n",
       "  </tbody>\n",
       "</table>\n",
       "</div>"
      ],
      "text/plain": [
       "died_hosp       0.0       1.0\n",
       "died_icu                     \n",
       "0.0        0.895367  0.104633\n",
       "1.0        0.000841  0.999159"
      ]
     },
     "execution_count": 19,
     "metadata": {},
     "output_type": "execute_result"
    }
   ],
   "source": [
    "pd.crosstab(data_cardarr.died_icu, data_cardarr.died_hosp, normalize=0)"
   ]
  },
  {
   "cell_type": "markdown",
   "metadata": {},
   "source": [
    "**Although there are still 13% chance for people who suffer from cardiac arrest survived icu ended up didn't make it through hospital**"
   ]
  },
  {
   "cell_type": "markdown",
   "metadata": {},
   "source": [
    "now remove those inconsistent data"
   ]
  },
  {
   "cell_type": "code",
   "execution_count": 20,
   "metadata": {},
   "outputs": [
    {
     "name": "stdout",
     "output_type": "stream",
     "text": [
      "Rows removed:  13\n",
      "New shape:  (39730, 168)\n"
     ]
    }
   ],
   "source": [
    "previous_shape = data_cardarr.shape[0]\n",
    "\n",
    "data_cardarr = data_cardarr[\n",
    "    ~((data_cardarr.died_icu == 1) & (data_cardarr.died_hosp == 0))\n",
    "]\n",
    "\n",
    "print('Rows removed: ', (previous_shape - data_cardarr.shape[0]))\n",
    "print('New shape: ', data_cardarr.shape)"
   ]
  },
  {
   "cell_type": "markdown",
   "metadata": {},
   "source": [
    "Remove those that dont have sex recorded"
   ]
  },
  {
   "cell_type": "code",
   "execution_count": 21,
   "metadata": {},
   "outputs": [
    {
     "name": "stdout",
     "output_type": "stream",
     "text": [
      "Rows removed:  7\n",
      "New shape:  (39723, 168)\n"
     ]
    }
   ],
   "source": [
    "previous_shape = data_cardarr.shape[0]\n",
    "\n",
    "data_cardarr = data_cardarr[\n",
    "    ~(data_cardarr.sex.isna())\n",
    "]\n",
    "\n",
    "print('Rows removed: ', (previous_shape - data_cardarr.shape[0]))\n",
    "print('New shape: ', data_cardarr.shape)"
   ]
  },
  {
   "cell_type": "markdown",
   "metadata": {},
   "source": [
    "## Select relevant variables (candidates)"
   ]
  },
  {
   "cell_type": "markdown",
   "metadata": {},
   "source": [
    "**Target variable**  \n",
    "This model is to predict the mortality at the time of discharged from hospital, so `died_hosp` is the target variable, and remove `hosp_outcm`, `icu_outcm` and `died_icu`.  "
   ]
  },
  {
   "cell_type": "code",
   "execution_count": 22,
   "metadata": {},
   "outputs": [],
   "source": [
    "target_var = ['died_hosp']"
   ]
  },
  {
   "cell_type": "markdown",
   "metadata": {},
   "source": [
    "**Pick relavent features**\n",
    "Some variables are obvious irrelavent. Fist pick a rough set of candidates based on two subsets: \n",
    "1. Biological background info\n",
    "1. Highest and lowest physiology in first 24 hours of ICU stay \n",
    "\n",
    "then to refine the list through EDA.  "
   ]
  },
  {
   "cell_type": "code",
   "execution_count": 23,
   "metadata": {},
   "outputs": [
    {
     "data": {
      "text/plain": [
       "array(['ïsiteid', 'hospitalclassificationid', 'hospitalclassification',\n",
       "       'publicprivateid', 'publicprivate', 'patientid', 'icuadmityyyymm',\n",
       "       'icuadmitfinyr', 'icuadmityyyy', 'icuadmitmonth',\n",
       "       'icuadmitweekday', 'icuadmithour', 'icu_ad_dtm', 'icudisyyyy',\n",
       "       'icudismonth', 'icudisweekday', 'icudishour', 'icu_ds_dtm',\n",
       "       'hosp_ad_dtm', 'hosp_ds_dtm', 'hosp_srce', 'hosp_outcm',\n",
       "       'hosp_hrs', 'sex', 'prior_icu_ad_dtm', 'prior_icu_ds_dtm',\n",
       "       'icu_srce', 'icu_hrs', 'pre_icu_hrs', 'icu_ds_dec_dtm',\n",
       "       'discharge_delay_hrs', 'readmission_lag_hrs', 'icu_outcm',\n",
       "       'readmitted', 'admepisode', 'died_icu', 'died_hosp', 'age',\n",
       "       'elect', 'chr_resp', 'chr_cvs', 'chr_liv', 'chr_ren', 'immundis',\n",
       "       'immunrx', 'aids', 'hepfail', 'lymphoma', 'metast', 'leukaem',\n",
       "       'immunsup', 'cirrhos', 'iddm', 'caretype', 'weight', 'height',\n",
       "       'preg_stat', 'thrombpro', 'emg_rsp_adm', 'treat_lmt', 'cardarrest',\n",
       "       'resparrest', 'indigenous', 'arf', 'intubated', 'ventilated',\n",
       "       'rrhi_vent', 'rrlo_vent', 'elect_surg', 'lactate', 'gcsverb',\n",
       "       'gcsmotor', 'gcseye', 'gcs', 'temp_ap2', 'temp_anz', 'map_ap2',\n",
       "       'map_anz', 'hr_ap2', 'hr_anz', 'rr_ap2', 'rr_anz', 'fio2_ap2',\n",
       "       'fio2_anz', 'pao2_ap2', 'pao2_anz', 'paco2_ap2', 'paco2_anz',\n",
       "       'ph_ap2', 'ph_anz', 'hco3_ap2', 'na_ap2', 'na_anz', 'k_ap2',\n",
       "       'creat_ap2', 'creat_anz', 'hct_ap2', 'hct_anz', 'wcc_ap2',\n",
       "       'wcc_anz', 'urea_anz', 'urineop', 'albumin_anz', 'bili_anz',\n",
       "       'glucose_anz', 'ap3co2p', 'temphi', 'templo', 'hrhi', 'hrlo',\n",
       "       'rrhi', 'rrlo', 'systolichi', 'systoliclo', 'diastolichi',\n",
       "       'diastoliclo', 'maphi', 'maplo', 'nahi', 'nalo', 'khi', 'klo',\n",
       "       'hco3hi', 'hco3lo', 'creathi', 'creatlo', 'hcthi', 'hctlo',\n",
       "       'hmgnhi', 'hmgnlo', 'wcchi', 'wcclo', 'plathi', 'platlo', 'gluchi',\n",
       "       'gluclo', 'agescore', 'albuminscore', 'bilirubinscore',\n",
       "       'creatininescore', 'glucosescore', 'haematocritscore',\n",
       "       'heartratescore', 'meanarterialpressurescore', 'sodiumscore',\n",
       "       'neurologicalscore', 'oxygenationscore', 'phscore',\n",
       "       'respiratoryratescore', 'temperaturescore', 'ureascore',\n",
       "       'urineoutputscore', 'whitecellcountscore', 'ap3diag',\n",
       "       'ap3_subcode', 'cabg_graft', 'cabg_redo', 'thromb_therapy',\n",
       "       'anzrodisincluded', 'anzrodissmr', 'anzrodriskofdeath',\n",
       "       'apache3isincluded', 'apache3issmr', 'apache3riskofdeath',\n",
       "       'apache3score', 'apache2score', 'infectedall1', 'majordiag'],\n",
       "      dtype=object)"
      ]
     },
     "execution_count": 23,
     "metadata": {},
     "output_type": "execute_result"
    }
   ],
   "source": [
    "data_cardarr.columns.values"
   ]
  },
  {
   "cell_type": "code",
   "execution_count": 36,
   "metadata": {},
   "outputs": [],
   "source": [
    "biobackground_vars = ['sex', 'age', 'chr_resp', 'chr_cvs', 'chr_liv', 'chr_ren', 'immundis',\n",
    "                      'immunrx', 'aids', 'hepfail', 'lymphoma', 'metast', 'leukaem', 'immunsup',\n",
    "                      'cirrhos', 'iddm', 'weight', 'height', 'preg_stat', 'elect',\n",
    "                      'pre_icu_hrs', 'intubated', 'ventilated',\n",
    "                      'arf', 'gcsverb', 'gcsmotor', 'gcseye', 'gcs', 'urineop']"
   ]
  },
  {
   "cell_type": "code",
   "execution_count": 37,
   "metadata": {},
   "outputs": [],
   "source": [
    "twentyfour_hr_phys_vars = ['temphi', 'templo', 'hrhi', 'hrlo', 'rrhi', 'rrlo', 'systolichi',\n",
    "                          'systoliclo', 'diastolichi', 'diastoliclo', 'maphi', 'maplo',\n",
    "                          'nahi', 'nalo', 'khi', 'klo', 'hco3hi', 'hco3lo', 'creathi',\n",
    "                          'creatlo', 'hcthi', 'hctlo', 'hmgnhi', 'hmgnlo', 'wcchi',\n",
    "                          'wcclo', 'plathi', 'platlo', 'gluchi', 'gluclo']"
   ]
  },
  {
   "cell_type": "code",
   "execution_count": 38,
   "metadata": {},
   "outputs": [],
   "source": [
    "extra_vars = ['apache3riskofdeath', 'anzrodriskofdeath', 'apache3score']"
   ]
  },
  {
   "cell_type": "code",
   "execution_count": 39,
   "metadata": {},
   "outputs": [
    {
     "data": {
      "text/plain": [
       "(39723, 63)"
      ]
     },
     "execution_count": 39,
     "metadata": {},
     "output_type": "execute_result"
    }
   ],
   "source": [
    "data_candidate = data_cardarr[biobackground_vars + twentyfour_hr_phys_vars + extra_vars + target_var]\n",
    "data_candidate.shape"
   ]
  },
  {
   "cell_type": "markdown",
   "metadata": {},
   "source": [
    "## Split into trainning and test set\n",
    "Before doing any EDA on the data, it is best practice to split the data into trainning and test set, and only explore on the trainning set.  \n",
    "But first check missing values in target variable `died_hosp`"
   ]
  },
  {
   "cell_type": "code",
   "execution_count": 40,
   "metadata": {},
   "outputs": [
    {
     "data": {
      "text/plain": [
       "157"
      ]
     },
     "execution_count": 40,
     "metadata": {},
     "output_type": "execute_result"
    }
   ],
   "source": [
    "data_candidate.died_hosp.isnull().sum()"
   ]
  },
  {
   "cell_type": "code",
   "execution_count": 41,
   "metadata": {},
   "outputs": [
    {
     "data": {
      "text/plain": [
       "0.3952370163381416"
      ]
     },
     "execution_count": 41,
     "metadata": {},
     "output_type": "execute_result"
    }
   ],
   "source": [
    "data_candidate.died_hosp.isnull().sum() / data_candidate.shape[0] * 100"
   ]
  },
  {
   "cell_type": "markdown",
   "metadata": {},
   "source": [
    "There are 157 or .39% of instances missing target variable value. We'll drop these missing cases"
   ]
  },
  {
   "cell_type": "code",
   "execution_count": 42,
   "metadata": {},
   "outputs": [
    {
     "name": "stdout",
     "output_type": "stream",
     "text": [
      "Rows removed:  157\n",
      "New shape:  (39566, 63)\n"
     ]
    }
   ],
   "source": [
    "previous_shape = data_candidate.shape[0]\n",
    "\n",
    "data_candidate_clean = data_candidate.copy() # keep a copy of data_candidate\n",
    "data_candidate_clean = data_candidate_clean.dropna(subset=['died_hosp'])\n",
    "\n",
    "print('Rows removed: ', (previous_shape - data_candidate_clean.shape[0]))\n",
    "print('New shape: ', data_candidate_clean.shape)"
   ]
  },
  {
   "cell_type": "markdown",
   "metadata": {},
   "source": [
    "Now split the data into training and test set(90-10 split)"
   ]
  },
  {
   "cell_type": "code",
   "execution_count": 43,
   "metadata": {},
   "outputs": [],
   "source": [
    "data_train, data_test = train_test_split(data_candidate_clean, test_size=.1, \n",
    "                                         stratify=data_candidate_clean.died_hosp, random_state=42)"
   ]
  },
  {
   "cell_type": "markdown",
   "metadata": {},
   "source": [
    "Let's check to make sure the output variable is correctly stratified across train/test sets"
   ]
  },
  {
   "cell_type": "code",
   "execution_count": 44,
   "metadata": {},
   "outputs": [
    {
     "data": {
      "text/html": [
       "<div>\n",
       "<style scoped>\n",
       "    .dataframe tbody tr th:only-of-type {\n",
       "        vertical-align: middle;\n",
       "    }\n",
       "\n",
       "    .dataframe tbody tr th {\n",
       "        vertical-align: top;\n",
       "    }\n",
       "\n",
       "    .dataframe thead th {\n",
       "        text-align: right;\n",
       "    }\n",
       "</style>\n",
       "<table border=\"1\" class=\"dataframe\">\n",
       "  <thead>\n",
       "    <tr style=\"text-align: right;\">\n",
       "      <th></th>\n",
       "      <th>original</th>\n",
       "      <th>train</th>\n",
       "      <th>test</th>\n",
       "    </tr>\n",
       "  </thead>\n",
       "  <tbody>\n",
       "    <tr>\n",
       "      <th>0.0</th>\n",
       "      <td>0.544584</td>\n",
       "      <td>0.544581</td>\n",
       "      <td>0.544604</td>\n",
       "    </tr>\n",
       "    <tr>\n",
       "      <th>1.0</th>\n",
       "      <td>0.455416</td>\n",
       "      <td>0.455419</td>\n",
       "      <td>0.455396</td>\n",
       "    </tr>\n",
       "  </tbody>\n",
       "</table>\n",
       "</div>"
      ],
      "text/plain": [
       "     original     train      test\n",
       "0.0  0.544584  0.544581  0.544604\n",
       "1.0  0.455416  0.455419  0.455396"
      ]
     },
     "execution_count": 44,
     "metadata": {},
     "output_type": "execute_result"
    }
   ],
   "source": [
    "pd.DataFrame({\n",
    "    'original': data_candidate_clean.died_hosp.value_counts() / len(data_candidate_clean),\n",
    "    'train': data_train.died_hosp.value_counts() / len(data_train),\n",
    "    'test': data_test.died_hosp.value_counts() / len(data_test)})[['original', 'train', 'test']]"
   ]
  },
  {
   "cell_type": "code",
   "execution_count": 45,
   "metadata": {},
   "outputs": [
    {
     "data": {
      "text/plain": [
       "(35609, 3957, 0.100010109690138)"
      ]
     },
     "execution_count": 45,
     "metadata": {},
     "output_type": "execute_result"
    }
   ],
   "source": [
    "len(data_train), len(data_test), len(data_test)/len(data_candidate_clean)"
   ]
  },
  {
   "cell_type": "code",
   "execution_count": 46,
   "metadata": {},
   "outputs": [
    {
     "name": "stdout",
     "output_type": "stream",
     "text": [
      "(35609, 63)\n",
      "(3957, 63)\n"
     ]
    }
   ],
   "source": [
    "print(data_train.shape)\n",
    "print(data_test.shape)"
   ]
  },
  {
   "cell_type": "markdown",
   "metadata": {},
   "source": [
    "So the class label is split preserving the class proportions and is in 90-10 ratio  "
   ]
  },
  {
   "cell_type": "markdown",
   "metadata": {},
   "source": [
    "## Save the datasets to file"
   ]
  },
  {
   "cell_type": "code",
   "execution_count": 47,
   "metadata": {},
   "outputs": [],
   "source": [
    "# save the original cardiac data \n",
    "data_cardarr.to_csv('../data/cardiac_data_{}_rows.csv'.format(data_cardarr.shape[0]), index=False)\n",
    "\n",
    "# save the background and 24-hr physiology data\n",
    "data_candidate_clean.to_csv('../data/cardiac_data_background_and_24hr_phys_{}_rows.csv'.format(data_candidate_clean.shape[0]), index=False)\n",
    "\n",
    "# save the training data\n",
    "data_train.to_csv('../data/cardiac_data_train_{}_rows.csv'.format(data_train.shape[0]), index=False)\n",
    "\n",
    "# save the test data\n",
    "data_test.to_csv('../data/cardiac_data_test_{}_rows.csv'.format(data_test.shape[0]), index=False)"
   ]
  }
 ],
 "metadata": {
  "kernelspec": {
   "display_name": "Python 3",
   "language": "python",
   "name": "python3"
  },
  "language_info": {
   "codemirror_mode": {
    "name": "ipython",
    "version": 3
   },
   "file_extension": ".py",
   "mimetype": "text/x-python",
   "name": "python",
   "nbconvert_exporter": "python",
   "pygments_lexer": "ipython3",
   "version": "3.6.3"
  },
  "toc": {
   "colors": {
    "hover_highlight": "#DAA520",
    "navigate_num": "#000000",
    "navigate_text": "#333333",
    "running_highlight": "#FF0000",
    "selected_highlight": "#FFD700",
    "sidebar_border": "#EEEEEE",
    "wrapper_background": "#FFFFFF"
   },
   "moveMenuLeft": true,
   "nav_menu": {
    "height": "12px",
    "width": "252px"
   },
   "navigate_menu": true,
   "number_sections": false,
   "sideBar": true,
   "threshold": 4,
   "toc_cell": false,
   "toc_section_display": "block",
   "toc_window_display": false,
   "widenNotebook": false
  }
 },
 "nbformat": 4,
 "nbformat_minor": 2
}
