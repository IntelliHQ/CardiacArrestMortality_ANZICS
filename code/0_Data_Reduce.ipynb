{
 "cells": [
  {
   "cell_type": "code",
   "execution_count": 1,
   "metadata": {},
   "outputs": [],
   "source": [
    "# dep: input: ../data/Datathon_2006_2015_CORE_APD_clean.csv\n",
    "# dep: output: ../data/data_extract.csv"
   ]
  },
  {
   "cell_type": "markdown",
   "metadata": {},
   "source": [
    "# Extract Cardiac Arrest subset from ANZICS data"
   ]
  },
  {
   "cell_type": "code",
   "execution_count": 2,
   "metadata": {},
   "outputs": [
    {
     "name": "stdout",
     "output_type": "stream",
     "text": [
      "Python 3.6.3 :: Anaconda custom (64-bit)\r\n"
     ]
    }
   ],
   "source": [
    "# Print Python version\n",
    "!python -V"
   ]
  },
  {
   "cell_type": "markdown",
   "metadata": {},
   "source": [
    "## Load CSV into pandas\n",
    "Import as pandas dataframe."
   ]
  },
  {
   "cell_type": "code",
   "execution_count": 3,
   "metadata": {
    "scrolled": false
   },
   "outputs": [
    {
     "name": "stderr",
     "output_type": "stream",
     "text": [
      "/home/ubuntu/anaconda3/lib/python3.6/site-packages/matplotlib/__init__.py:962: UserWarning: Duplicate key in file \"/home/ubuntu/.config/matplotlib/matplotlibrc\", line #2\n",
      "  (fname, cnt))\n",
      "/home/ubuntu/anaconda3/lib/python3.6/site-packages/matplotlib/__init__.py:962: UserWarning: Duplicate key in file \"/home/ubuntu/.config/matplotlib/matplotlibrc\", line #3\n",
      "  (fname, cnt))\n"
     ]
    },
    {
     "data": {
      "text/plain": [
       "'0.22.0'"
      ]
     },
     "execution_count": 3,
     "metadata": {},
     "output_type": "execute_result"
    }
   ],
   "source": [
    "import pandas as pd\n",
    "\n",
    "# Print pandas version\n",
    "pd.__version__"
   ]
  },
  {
   "cell_type": "markdown",
   "metadata": {},
   "source": [
    "Create routine to chunk the csv file, otherwise will run out of memory and kernel will hang."
   ]
  },
  {
   "cell_type": "code",
   "execution_count": 4,
   "metadata": {},
   "outputs": [],
   "source": [
    "def load_csv_into_pandas_using_chunks_with_filter(csv_file, chunkfilter, chunksize=20000):\n",
    "    # This times out\n",
    "    # out = pd.read_csv(csv_file, skipinitialspace=True)\n",
    "\n",
    "    # So use chunks\n",
    "    print(\"Loading CSV in chunks from:\", csv_file)\n",
    "    \n",
    "    out = None\n",
    "    \n",
    "    chunk = 0\n",
    "    for rows in pd.read_csv(csv_file, chunksize=chunksize, skipinitialspace=True):\n",
    "        chunk += 1\n",
    "        rows_filtered = chunkfilter(rows)\n",
    "        if out is None:\n",
    "            # print(\"Copy\")\n",
    "            out = rows_filtered.copy()\n",
    "        else:\n",
    "            # print(\"Append\")\n",
    "            out = out.append(rows_filtered)\n",
    "\n",
    "        # out.head()\n",
    "        # print(out.patientid)\n",
    "        \n",
    "        print(\"chunk:\", chunk, \"rows:\", rows.shape, \"filtered:\", rows_filtered.shape, \"out:\", out.shape)\n",
    "        \n",
    "    print(\"Complete, shape:\", out.shape)\n",
    "    \n",
    "    return out"
   ]
  },
  {
   "cell_type": "markdown",
   "metadata": {},
   "source": [
    "Retrieve the full ANZICS data file as a pandas object"
   ]
  },
  {
   "cell_type": "code",
   "execution_count": 5,
   "metadata": {},
   "outputs": [
    {
     "name": "stdout",
     "output_type": "stream",
     "text": [
      "Loading CSV in chunks from: ../data/ANZICS_data.csv\n",
      "chunk: 1 rows: (20000, 168) filtered: (675, 168) out: (675, 168)\n",
      "chunk: 2 rows: (20000, 168) filtered: (644, 168) out: (1319, 168)\n",
      "chunk: 3 rows: (20000, 168) filtered: (574, 168) out: (1893, 168)\n",
      "chunk: 4 rows: (20000, 168) filtered: (566, 168) out: (2459, 168)\n",
      "chunk: 5 rows: (20000, 168) filtered: (594, 168) out: (3053, 168)\n",
      "chunk: 6 rows: (20000, 168) filtered: (613, 168) out: (3666, 168)\n",
      "chunk: 7 rows: (20000, 168) filtered: (579, 168) out: (4245, 168)\n",
      "chunk: 8 rows: (20000, 168) filtered: (593, 168) out: (4838, 168)\n",
      "chunk: 9 rows: (20000, 168) filtered: (584, 168) out: (5422, 168)\n",
      "chunk: 10 rows: (20000, 168) filtered: (623, 168) out: (6045, 168)\n",
      "chunk: 11 rows: (20000, 168) filtered: (575, 168) out: (6620, 168)\n",
      "chunk: 12 rows: (20000, 168) filtered: (555, 168) out: (7175, 168)\n",
      "chunk: 13 rows: (20000, 168) filtered: (562, 168) out: (7737, 168)\n",
      "chunk: 14 rows: (20000, 168) filtered: (605, 168) out: (8342, 168)\n",
      "chunk: 15 rows: (20000, 168) filtered: (626, 168) out: (8968, 168)\n",
      "chunk: 16 rows: (20000, 168) filtered: (584, 168) out: (9552, 168)\n",
      "chunk: 17 rows: (20000, 168) filtered: (658, 168) out: (10210, 168)\n",
      "chunk: 18 rows: (20000, 168) filtered: (626, 168) out: (10836, 168)\n",
      "chunk: 19 rows: (20000, 168) filtered: (584, 168) out: (11420, 168)\n",
      "chunk: 20 rows: (20000, 168) filtered: (603, 168) out: (12023, 168)\n",
      "chunk: 21 rows: (20000, 168) filtered: (554, 168) out: (12577, 168)\n",
      "chunk: 22 rows: (20000, 168) filtered: (583, 168) out: (13160, 168)\n",
      "chunk: 23 rows: (20000, 168) filtered: (571, 168) out: (13731, 168)\n",
      "chunk: 24 rows: (20000, 168) filtered: (587, 168) out: (14318, 168)\n",
      "chunk: 25 rows: (20000, 168) filtered: (642, 168) out: (14960, 168)\n",
      "chunk: 26 rows: (20000, 168) filtered: (654, 168) out: (15614, 168)\n",
      "chunk: 27 rows: (20000, 168) filtered: (633, 168) out: (16247, 168)\n",
      "chunk: 28 rows: (20000, 168) filtered: (611, 168) out: (16858, 168)\n",
      "chunk: 29 rows: (20000, 168) filtered: (634, 168) out: (17492, 168)\n",
      "chunk: 30 rows: (20000, 168) filtered: (636, 168) out: (18128, 168)\n",
      "chunk: 31 rows: (20000, 168) filtered: (597, 168) out: (18725, 168)\n",
      "chunk: 32 rows: (20000, 168) filtered: (663, 168) out: (19388, 168)\n",
      "chunk: 33 rows: (20000, 168) filtered: (618, 168) out: (20006, 168)\n",
      "chunk: 34 rows: (20000, 168) filtered: (596, 168) out: (20602, 168)\n",
      "chunk: 35 rows: (20000, 168) filtered: (547, 168) out: (21149, 168)\n",
      "chunk: 36 rows: (20000, 168) filtered: (610, 168) out: (21759, 168)\n",
      "chunk: 37 rows: (20000, 168) filtered: (638, 168) out: (22397, 168)\n",
      "chunk: 38 rows: (20000, 168) filtered: (615, 168) out: (23012, 168)\n",
      "chunk: 39 rows: (20000, 168) filtered: (685, 168) out: (23697, 168)\n",
      "chunk: 40 rows: (20000, 168) filtered: (668, 168) out: (24365, 168)\n",
      "chunk: 41 rows: (20000, 168) filtered: (548, 168) out: (24913, 168)\n",
      "chunk: 42 rows: (20000, 168) filtered: (620, 168) out: (25533, 168)\n",
      "chunk: 43 rows: (20000, 168) filtered: (649, 168) out: (26182, 168)\n",
      "chunk: 44 rows: (20000, 168) filtered: (620, 168) out: (26802, 168)\n",
      "chunk: 45 rows: (20000, 168) filtered: (668, 168) out: (27470, 168)\n",
      "chunk: 46 rows: (20000, 168) filtered: (683, 168) out: (28153, 168)\n",
      "chunk: 47 rows: (20000, 168) filtered: (742, 168) out: (28895, 168)\n",
      "chunk: 48 rows: (20000, 168) filtered: (836, 168) out: (29731, 168)\n",
      "chunk: 49 rows: (20000, 168) filtered: (802, 168) out: (30533, 168)\n",
      "chunk: 50 rows: (20000, 168) filtered: (843, 168) out: (31376, 168)\n",
      "chunk: 51 rows: (20000, 168) filtered: (843, 168) out: (32219, 168)\n",
      "chunk: 52 rows: (20000, 168) filtered: (805, 168) out: (33024, 168)\n",
      "chunk: 53 rows: (20000, 168) filtered: (677, 168) out: (33701, 168)\n",
      "chunk: 54 rows: (20000, 168) filtered: (640, 168) out: (34341, 168)\n",
      "chunk: 55 rows: (20000, 168) filtered: (694, 168) out: (35035, 168)\n",
      "chunk: 56 rows: (20000, 168) filtered: (651, 168) out: (35686, 168)\n",
      "chunk: 57 rows: (20000, 168) filtered: (733, 168) out: (36419, 168)\n",
      "chunk: 58 rows: (20000, 168) filtered: (707, 168) out: (37126, 168)\n",
      "chunk: 59 rows: (20000, 168) filtered: (710, 168) out: (37836, 168)\n",
      "chunk: 60 rows: (20000, 168) filtered: (739, 168) out: (38575, 168)\n",
      "chunk: 61 rows: (20000, 168) filtered: (729, 168) out: (39304, 168)\n",
      "chunk: 62 rows: (20000, 168) filtered: (761, 168) out: (40065, 168)\n",
      "chunk: 63 rows: (20000, 168) filtered: (713, 168) out: (40778, 168)\n",
      "chunk: 64 rows: (20000, 168) filtered: (690, 168) out: (41468, 168)\n",
      "chunk: 65 rows: (20000, 168) filtered: (727, 168) out: (42195, 168)\n",
      "chunk: 66 rows: (20000, 168) filtered: (676, 168) out: (42871, 168)\n",
      "chunk: 67 rows: (20000, 168) filtered: (638, 168) out: (43509, 168)\n",
      "chunk: 68 rows: (20000, 168) filtered: (685, 168) out: (44194, 168)\n",
      "chunk: 69 rows: (20000, 168) filtered: (614, 168) out: (44808, 168)\n",
      "chunk: 70 rows: (20000, 168) filtered: (682, 168) out: (45490, 168)\n",
      "chunk: 71 rows: (20000, 168) filtered: (681, 168) out: (46171, 168)\n",
      "chunk: 72 rows: (20000, 168) filtered: (627, 168) out: (46798, 168)\n",
      "chunk: 73 rows: (20000, 168) filtered: (662, 168) out: (47460, 168)\n",
      "chunk: 74 rows: (20000, 168) filtered: (556, 168) out: (48016, 168)\n",
      "chunk: 75 rows: (4536, 168) filtered: (149, 168) out: (48165, 168)\n",
      "Complete, shape: (48165, 168)\n"
     ]
    }
   ],
   "source": [
    "#Load updated CSV into notebooks\n",
    "data_extract = load_csv_into_pandas_using_chunks_with_filter('../data/ANZICS_data.csv',\n",
    "                    lambda df: df[(df.ap3_subcode.isin([102.01])) | (df.ap3diag == 102) | (df.cardarrest == 1)])"
   ]
  },
  {
   "cell_type": "markdown",
   "metadata": {},
   "source": [
    "Let's have a look at the ANZICS data"
   ]
  },
  {
   "cell_type": "code",
   "execution_count": 6,
   "metadata": {},
   "outputs": [
    {
     "data": {
      "text/html": [
       "<div>\n",
       "<style scoped>\n",
       "    .dataframe tbody tr th:only-of-type {\n",
       "        vertical-align: middle;\n",
       "    }\n",
       "\n",
       "    .dataframe tbody tr th {\n",
       "        vertical-align: top;\n",
       "    }\n",
       "\n",
       "    .dataframe thead th {\n",
       "        text-align: right;\n",
       "    }\n",
       "</style>\n",
       "<table border=\"1\" class=\"dataframe\">\n",
       "  <thead>\n",
       "    <tr style=\"text-align: right;\">\n",
       "      <th></th>\n",
       "      <th>ïsiteid</th>\n",
       "      <th>hospitalclassificationid</th>\n",
       "      <th>hospitalclassification</th>\n",
       "      <th>publicprivateid</th>\n",
       "      <th>publicprivate</th>\n",
       "      <th>patientid</th>\n",
       "      <th>icuadmityyyymm</th>\n",
       "      <th>icuadmitfinyr</th>\n",
       "      <th>icuadmityyyy</th>\n",
       "      <th>icuadmitmonth</th>\n",
       "      <th>...</th>\n",
       "      <th>anzrodisincluded</th>\n",
       "      <th>anzrodissmr</th>\n",
       "      <th>anzrodriskofdeath</th>\n",
       "      <th>apache3isincluded</th>\n",
       "      <th>apache3issmr</th>\n",
       "      <th>apache3riskofdeath</th>\n",
       "      <th>apache3score</th>\n",
       "      <th>apache2score</th>\n",
       "      <th>infectedall1</th>\n",
       "      <th>majordiag</th>\n",
       "    </tr>\n",
       "  </thead>\n",
       "  <tbody>\n",
       "    <tr>\n",
       "      <th>3</th>\n",
       "      <td>47</td>\n",
       "      <td>1</td>\n",
       "      <td>Rural / Regional</td>\n",
       "      <td>4</td>\n",
       "      <td>Public</td>\n",
       "      <td>2</td>\n",
       "      <td>201710</td>\n",
       "      <td>2017-18</td>\n",
       "      <td>2017</td>\n",
       "      <td>10</td>\n",
       "      <td>...</td>\n",
       "      <td>1</td>\n",
       "      <td>1</td>\n",
       "      <td>0.032667</td>\n",
       "      <td>1</td>\n",
       "      <td>1</td>\n",
       "      <td>0.080221</td>\n",
       "      <td>61.0</td>\n",
       "      <td>19.0</td>\n",
       "      <td>0</td>\n",
       "      <td>med_other</td>\n",
       "    </tr>\n",
       "    <tr>\n",
       "      <th>66</th>\n",
       "      <td>47</td>\n",
       "      <td>1</td>\n",
       "      <td>Rural / Regional</td>\n",
       "      <td>4</td>\n",
       "      <td>Public</td>\n",
       "      <td>230</td>\n",
       "      <td>201710</td>\n",
       "      <td>2017-18</td>\n",
       "      <td>2017</td>\n",
       "      <td>10</td>\n",
       "      <td>...</td>\n",
       "      <td>1</td>\n",
       "      <td>1</td>\n",
       "      <td>0.215668</td>\n",
       "      <td>1</td>\n",
       "      <td>0</td>\n",
       "      <td>0.130564</td>\n",
       "      <td>53.0</td>\n",
       "      <td>25.0</td>\n",
       "      <td>0</td>\n",
       "      <td>cardiacarrest</td>\n",
       "    </tr>\n",
       "    <tr>\n",
       "      <th>123</th>\n",
       "      <td>108</td>\n",
       "      <td>3</td>\n",
       "      <td>Tertiary</td>\n",
       "      <td>4</td>\n",
       "      <td>Public</td>\n",
       "      <td>5838590P120</td>\n",
       "      <td>201709</td>\n",
       "      <td>2017-18</td>\n",
       "      <td>2017</td>\n",
       "      <td>9</td>\n",
       "      <td>...</td>\n",
       "      <td>1</td>\n",
       "      <td>1</td>\n",
       "      <td>0.652234</td>\n",
       "      <td>1</td>\n",
       "      <td>1</td>\n",
       "      <td>0.632856</td>\n",
       "      <td>109.0</td>\n",
       "      <td>30.0</td>\n",
       "      <td>0</td>\n",
       "      <td>cardiacarrest</td>\n",
       "    </tr>\n",
       "    <tr>\n",
       "      <th>136</th>\n",
       "      <td>178</td>\n",
       "      <td>3</td>\n",
       "      <td>Tertiary</td>\n",
       "      <td>4</td>\n",
       "      <td>Public</td>\n",
       "      <td>2270096</td>\n",
       "      <td>201709</td>\n",
       "      <td>2017-18</td>\n",
       "      <td>2017</td>\n",
       "      <td>9</td>\n",
       "      <td>...</td>\n",
       "      <td>1</td>\n",
       "      <td>1</td>\n",
       "      <td>0.156578</td>\n",
       "      <td>1</td>\n",
       "      <td>1</td>\n",
       "      <td>0.337196</td>\n",
       "      <td>75.0</td>\n",
       "      <td>15.0</td>\n",
       "      <td>0</td>\n",
       "      <td>cardiacarrest</td>\n",
       "    </tr>\n",
       "    <tr>\n",
       "      <th>147</th>\n",
       "      <td>223</td>\n",
       "      <td>3</td>\n",
       "      <td>Tertiary</td>\n",
       "      <td>4</td>\n",
       "      <td>Public</td>\n",
       "      <td>3032270</td>\n",
       "      <td>201709</td>\n",
       "      <td>2017-18</td>\n",
       "      <td>2017</td>\n",
       "      <td>9</td>\n",
       "      <td>...</td>\n",
       "      <td>1</td>\n",
       "      <td>1</td>\n",
       "      <td>0.102439</td>\n",
       "      <td>1</td>\n",
       "      <td>1</td>\n",
       "      <td>0.057196</td>\n",
       "      <td>39.0</td>\n",
       "      <td>10.0</td>\n",
       "      <td>0</td>\n",
       "      <td>cardiacarrest</td>\n",
       "    </tr>\n",
       "  </tbody>\n",
       "</table>\n",
       "<p>5 rows × 168 columns</p>\n",
       "</div>"
      ],
      "text/plain": [
       "     ïsiteid  hospitalclassificationid hospitalclassification  \\\n",
       "3         47                         1       Rural / Regional   \n",
       "66        47                         1       Rural / Regional   \n",
       "123      108                         3               Tertiary   \n",
       "136      178                         3               Tertiary   \n",
       "147      223                         3               Tertiary   \n",
       "\n",
       "     publicprivateid publicprivate    patientid  icuadmityyyymm icuadmitfinyr  \\\n",
       "3                  4        Public            2          201710       2017-18   \n",
       "66                 4        Public          230          201710       2017-18   \n",
       "123                4        Public  5838590P120          201709       2017-18   \n",
       "136                4        Public      2270096          201709       2017-18   \n",
       "147                4        Public      3032270          201709       2017-18   \n",
       "\n",
       "     icuadmityyyy  icuadmitmonth      ...        anzrodisincluded  \\\n",
       "3            2017             10      ...                       1   \n",
       "66           2017             10      ...                       1   \n",
       "123          2017              9      ...                       1   \n",
       "136          2017              9      ...                       1   \n",
       "147          2017              9      ...                       1   \n",
       "\n",
       "     anzrodissmr anzrodriskofdeath  apache3isincluded  apache3issmr  \\\n",
       "3              1          0.032667                  1             1   \n",
       "66             1          0.215668                  1             0   \n",
       "123            1          0.652234                  1             1   \n",
       "136            1          0.156578                  1             1   \n",
       "147            1          0.102439                  1             1   \n",
       "\n",
       "     apache3riskofdeath  apache3score apache2score infectedall1      majordiag  \n",
       "3              0.080221          61.0         19.0            0      med_other  \n",
       "66             0.130564          53.0         25.0            0  cardiacarrest  \n",
       "123            0.632856         109.0         30.0            0  cardiacarrest  \n",
       "136            0.337196          75.0         15.0            0  cardiacarrest  \n",
       "147            0.057196          39.0         10.0            0  cardiacarrest  \n",
       "\n",
       "[5 rows x 168 columns]"
      ]
     },
     "execution_count": 6,
     "metadata": {},
     "output_type": "execute_result"
    }
   ],
   "source": [
    "data_extract.head()"
   ]
  },
  {
   "cell_type": "markdown",
   "metadata": {},
   "source": [
    "And check the shape of the data"
   ]
  },
  {
   "cell_type": "code",
   "execution_count": 7,
   "metadata": {},
   "outputs": [
    {
     "name": "stdout",
     "output_type": "stream",
     "text": [
      "48165\n"
     ]
    }
   ],
   "source": [
    "data_extract_shape = data_extract.shape[0]\n",
    "print(data_extract_shape)"
   ]
  },
  {
   "cell_type": "markdown",
   "metadata": {},
   "source": [
    "## Inspect the data\n",
    "Let's check the value counts for our ap3 diag code/subcode features"
   ]
  },
  {
   "cell_type": "code",
   "execution_count": 8,
   "metadata": {},
   "outputs": [
    {
     "data": {
      "text/plain": [
       " 102.01     20586\n",
       "NaN         17814\n",
       " 101.01       768\n",
       " 107.01       630\n",
       " 1207.01      435\n",
       " 703.03       344\n",
       " 106.01       270\n",
       " 503.01       246\n",
       " 203.01       201\n",
       " 402.02       201\n",
       " 207.01       190\n",
       " 102.02       181\n",
       " 1208.06      178\n",
       " 206.01       162\n",
       " 212.01       160\n",
       " 104.01       141\n",
       " 1206.03      131\n",
       " 601.01       117\n",
       " 109.01       116\n",
       " 1405.02      114\n",
       " 410.01       109\n",
       " 208.01       103\n",
       " 401.01       103\n",
       " 1902.05      101\n",
       " 1212.03       88\n",
       " 407.01        84\n",
       " 1403.03       82\n",
       " 1401.01       82\n",
       " 403.01        81\n",
       " 1902.03       80\n",
       "            ...  \n",
       " 601.07         1\n",
       " 1506.04        1\n",
       " 1602.16        1\n",
       " 901.06         1\n",
       " 802.06         1\n",
       " 703.09         1\n",
       " 602.05         1\n",
       " 801.01         1\n",
       " 406.01         1\n",
       " 901.05         1\n",
       " 1602.03        1\n",
       " 1208.02        1\n",
       " 703.08         1\n",
       " 1604.03        1\n",
       " 109.04         1\n",
       " 1213.02        1\n",
       " 604.05         1\n",
       " 1703.01        1\n",
       " 409.01         1\n",
       " 1101.03        1\n",
       " 312.05         1\n",
       " 604.04         1\n",
       " 602.17         1\n",
       " 1304.03        1\n",
       " 1506.05        1\n",
       " 1304.11        1\n",
       " 704.05         1\n",
       " 602.16         1\n",
       " 313.04         1\n",
       " 704.09         1\n",
       "Name: ap3_subcode, Length: 358, dtype: int64"
      ]
     },
     "execution_count": 8,
     "metadata": {},
     "output_type": "execute_result"
    }
   ],
   "source": [
    "data_extract['ap3_subcode'].value_counts(dropna=False)"
   ]
  },
  {
   "cell_type": "code",
   "execution_count": 9,
   "metadata": {},
   "outputs": [
    {
     "data": {
      "text/plain": [
       "102     32388\n",
       "101      1319\n",
       "107      1052\n",
       "1207      652\n",
       "1208      579\n",
       "703       527\n",
       "203       513\n",
       "503       488\n",
       "106       444\n",
       "601       403\n",
       "0         387\n",
       "1902      373\n",
       "402       345\n",
       "109       336\n",
       "212       334\n",
       "501       330\n",
       "207       306\n",
       "1602      282\n",
       "211       274\n",
       "1405      262\n",
       "206       248\n",
       "1403      244\n",
       "1206      241\n",
       "1408      241\n",
       "104       215\n",
       "602       212\n",
       "401       182\n",
       "1601      170\n",
       "410       164\n",
       "407       163\n",
       "        ...  \n",
       "1205       25\n",
       "310        25\n",
       "1803       24\n",
       "801        24\n",
       "802        23\n",
       "1412       22\n",
       "406        22\n",
       "1413       22\n",
       "701        20\n",
       "1301       19\n",
       "1211       18\n",
       "1704       17\n",
       "1407       16\n",
       "903        16\n",
       "1604       16\n",
       "308        15\n",
       "108        15\n",
       "111        12\n",
       "1101       12\n",
       "1102       11\n",
       "409        11\n",
       "1603        9\n",
       "1411        9\n",
       "105         8\n",
       "1605        7\n",
       "902         7\n",
       "2101        6\n",
       "405         5\n",
       "312         5\n",
       "210         1\n",
       "Name: ap3diag, Length: 117, dtype: int64"
      ]
     },
     "execution_count": 9,
     "metadata": {},
     "output_type": "execute_result"
    }
   ],
   "source": [
    "data_extract['ap3diag'].value_counts(dropna=False)"
   ]
  },
  {
   "cell_type": "markdown",
   "metadata": {},
   "source": [
    "## Save Cardiac Arrest data to CSV\n",
    "Export to CSV"
   ]
  },
  {
   "cell_type": "code",
   "execution_count": 11,
   "metadata": {},
   "outputs": [],
   "source": [
    "# save the extract data \n",
    "data_extract.to_csv('../data/cardiac_data.csv')"
   ]
  }
 ],
 "metadata": {
  "kernelspec": {
   "display_name": "Python 3",
   "language": "python",
   "name": "python3"
  },
  "language_info": {
   "codemirror_mode": {
    "name": "ipython",
    "version": 3
   },
   "file_extension": ".py",
   "mimetype": "text/x-python",
   "name": "python",
   "nbconvert_exporter": "python",
   "pygments_lexer": "ipython3",
   "version": "3.6.3"
  },
  "toc": {
   "colors": {
    "hover_highlight": "#DAA520",
    "navigate_num": "#000000",
    "navigate_text": "#333333",
    "running_highlight": "#FF0000",
    "selected_highlight": "#FFD700",
    "sidebar_border": "#EEEEEE",
    "wrapper_background": "#FFFFFF"
   },
   "moveMenuLeft": true,
   "nav_menu": {
    "height": "12px",
    "width": "252px"
   },
   "navigate_menu": true,
   "number_sections": false,
   "sideBar": true,
   "threshold": 4,
   "toc_cell": false,
   "toc_section_display": "block",
   "toc_window_display": false,
   "widenNotebook": false
  }
 },
 "nbformat": 4,
 "nbformat_minor": 2
}
